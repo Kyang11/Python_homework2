{
 "cells": [
  {
   "cell_type": "markdown",
   "id": "3d38b38b",
   "metadata": {},
   "source": [
    "#### Exercise 1\n",
    "#### Given a list as a parameter,write a function that returns a list of numbers that are less than ten\n",
    "\n",
    "\n",
    "#### For example: Say your input parameter to the function is [1,11,14,5,8,9]...Your output should [1,5,8,9]"
   ]
  },
  {
   "cell_type": "code",
   "execution_count": 95,
   "id": "df77e49a",
   "metadata": {},
   "outputs": [
    {
     "name": "stdout",
     "output_type": "stream",
     "text": [
      "[1, 5, 8, 9]\n"
     ]
    }
   ],
   "source": [
    "# Long code, 1 version\n",
    "\n",
    "my_list=[1,11,14,5,8,9]\n",
    "empty_list=[]\n",
    "for num in my_list:\n",
    "    if num < 10:\n",
    "        empty_list.append(num)\n",
    "print(empty_list)\n",
    "\n",
    "\n",
    "\n",
    "    "
   ]
  },
  {
   "cell_type": "markdown",
   "id": "d3c34906",
   "metadata": {},
   "source": [
    "#### verison 2"
   ]
  },
  {
   "cell_type": "code",
   "execution_count": 96,
   "id": "0beb3d41",
   "metadata": {},
   "outputs": [
    {
     "name": "stdout",
     "output_type": "stream",
     "text": [
      "[1, 5, 8, 9]\n"
     ]
    }
   ],
   "source": [
    "\n",
    "#Shorter code, 2 version \n",
    "\n",
    "my_list=[1,11,14,5,8,9]\n",
    "new_list=[num for num in my_list if num <10]\n",
    "\n",
    "print(new_list)\n",
    "    "
   ]
  },
  {
   "cell_type": "markdown",
   "id": "dc45a5e6",
   "metadata": {},
   "source": [
    "#### Exercise 2\n",
    "#### Write a function that takes in two lists and returns the two lists merged together and sorted\n",
    "#### Hint: You can use the .sort() method"
   ]
  },
  {
   "cell_type": "markdown",
   "id": "988c0a41",
   "metadata": {},
   "source": [
    "#### Version 1"
   ]
  },
  {
   "cell_type": "code",
   "execution_count": 92,
   "id": "3553bfef",
   "metadata": {},
   "outputs": [
    {
     "name": "stdout",
     "output_type": "stream",
     "text": [
      "['Kevin Vang', 'Lovely Thao', 'Lydia Yang', 'Max Lor', 'Yang Ku']\n"
     ]
    }
   ],
   "source": [
    "# First Version \n",
    "\n",
    "#combine this 2 list \n",
    "\n",
    "first_list = ['Yang', 'Kevin', 'Lydia', 'Max','Lovely']\n",
    "second_list = ['Ku', 'Vang', 'Yang', 'Lor', 'Thao']\n",
    "\n",
    "# define function to store data\n",
    "def two_list(first_list, second_list):\n",
    "\n",
    "    full_list =[]\n",
    "    \n",
    "    for newlist in range(len(first_list)):\n",
    "        full_list.append(first_list[newlist]+ \" \" + second_list[newlist])\n",
    "    full_list.sort()\n",
    "    return full_list\n",
    "print(two_list(first_list, second_list))\n",
    "\n"
   ]
  },
  {
   "cell_type": "markdown",
   "id": "5e03523e",
   "metadata": {},
   "source": [
    "#### version 2"
   ]
  },
  {
   "cell_type": "code",
   "execution_count": 93,
   "id": "09f0be34",
   "metadata": {},
   "outputs": [
    {
     "name": "stdout",
     "output_type": "stream",
     "text": [
      " \n",
      "\n",
      "['Yang Ku', 'Kevin Vang', 'Lydia Yang', 'Max Lor', 'Lovely Thao']\n"
     ]
    }
   ],
   "source": [
    "\n",
    "#Second Version\n",
    "\n",
    "first_list = ['Yang', 'Kevin', 'Lydia', 'Max','Lovely']\n",
    "second_list = ['Ku', 'Vang', 'Yang', 'Lor', 'Thao']\n",
    "\n",
    "def twolist(first_list, second_list):\n",
    "\n",
    "    return [first_list[newlist] + \" \" + second_list[newlist] for newlist in range(len(first_list))]\n",
    "\n",
    "print(twolist(first_list, second_list))\n",
    "\n"
   ]
  },
  {
   "cell_type": "markdown",
   "id": "45869c92",
   "metadata": {},
   "source": [
    "#### version 3"
   ]
  },
  {
   "cell_type": "code",
   "execution_count": 94,
   "id": "77c176aa",
   "metadata": {},
   "outputs": [
    {
     "name": "stdout",
     "output_type": "stream",
     "text": [
      "['Admin', 'Kevin', 'Ku', 'Lor', 'Lovely', 'Lydia', 'Max', 'Steve', 'Thao', 'Vang', 'Yang', 'wang']\n"
     ]
    }
   ],
   "source": [
    " #third version(simple code)\n",
    "# or another way to do it  \n",
    "\n",
    "first_list = ['Admin','Yang', 'Kevin', 'Lydia', 'Max','Lovely']\n",
    "second_list = ['Ku', 'Vang', 'wang', 'Lor', 'Thao', 'Steve']\n",
    "\n",
    "def combine(first_list, second_list):\n",
    "    combine_list =(first_list + second_list)\n",
    "    combine_list.sort()\n",
    "    return combine_list\n",
    "\n",
    "print(combine(first_list, second_list))\n",
    "\n",
    "\n"
   ]
  }
 ],
 "metadata": {
  "kernelspec": {
   "display_name": "Python 3 (ipykernel)",
   "language": "python",
   "name": "python3"
  },
  "language_info": {
   "codemirror_mode": {
    "name": "ipython",
    "version": 3
   },
   "file_extension": ".py",
   "mimetype": "text/x-python",
   "name": "python",
   "nbconvert_exporter": "python",
   "pygments_lexer": "ipython3",
   "version": "3.9.7"
  }
 },
 "nbformat": 4,
 "nbformat_minor": 5
}
